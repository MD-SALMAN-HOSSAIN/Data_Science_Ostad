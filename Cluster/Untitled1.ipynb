{
 "cells": [
  {
   "cell_type": "code",
   "execution_count": 1,
   "id": "171fe545",
   "metadata": {},
   "outputs": [
    {
     "name": "stdout",
     "output_type": "stream",
     "text": [
      "[0.0, 1.4142135623730951, 2.8284271247461903, 1.4142135623730951, 1.4142135623730951, 0.0, 4.242640687119285, 2.8284271247461903, 2.0, 1.4142135623730951]\n"
     ]
    }
   ],
   "source": [
    "import math\n",
    "\n",
    "def euclidean_distance(data_point, centroid):\n",
    "  x1, y1 = data_point\n",
    "  x2, y2 = centroid\n",
    "  return math.sqrt((x1 - x2)**2 + (y1 - y2)**2)\n",
    "\n",
    "# Data points\n",
    "data_points = [(3, 5), (5, 7), (4, 6), (6, 8), (3, 7)]\n",
    "\n",
    "# Cluster centroids\n",
    "centroids = [(3, 5), (4, 6)]\n",
    "\n",
    "# Calculate the distances between the data points and the cluster centroids\n",
    "distances = []\n",
    "for data_point in data_points:\n",
    "  for centroid in centroids:\n",
    "    distances.append(euclidean_distance(data_point, centroid))\n",
    "\n",
    "# Print the distances\n",
    "print(distances)"
   ]
  },
  {
   "cell_type": "code",
   "execution_count": null,
   "id": "0309ddc1",
   "metadata": {},
   "outputs": [],
   "source": []
  }
 ],
 "metadata": {
  "kernelspec": {
   "display_name": "Python 3 (ipykernel)",
   "language": "python",
   "name": "python3"
  },
  "language_info": {
   "codemirror_mode": {
    "name": "ipython",
    "version": 3
   },
   "file_extension": ".py",
   "mimetype": "text/x-python",
   "name": "python",
   "nbconvert_exporter": "python",
   "pygments_lexer": "ipython3",
   "version": "3.11.3"
  }
 },
 "nbformat": 4,
 "nbformat_minor": 5
}
