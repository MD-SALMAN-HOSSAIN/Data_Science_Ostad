{
 "cells": [
  {
   "cell_type": "code",
   "execution_count": 18,
   "id": "29b68934",
   "metadata": {},
   "outputs": [
    {
     "name": "stdout",
     "output_type": "stream",
     "text": [
      "   Audi A5 BMW X5 Mercedez Benz C class\n",
      "0      NaN      1                   NaN\n",
      "1      NaN      1                   NaN\n",
      "2      NaN      1                   NaN\n",
      "3      NaN      1                   NaN\n",
      "4      NaN      1                   NaN\n",
      "5        1    NaN                   NaN\n",
      "6        1    NaN                   NaN\n",
      "7        1    NaN                   NaN\n",
      "8        1    NaN                   NaN\n",
      "9      NaN    NaN                     1\n",
      "10     NaN    NaN                     1\n",
      "11     NaN    NaN                     1\n",
      "12     NaN    NaN                     1\n"
     ]
    }
   ],
   "source": [
    "import pandas as pd\n",
    "\n",
    "# Create the DataFrame\n",
    "data = {\n",
    "    'Car_Model': ['BMW X5', 'BMW X5', 'BMW X5', 'BMW X5', 'BMW X5', 'Audi A5', 'Audi A5', 'Audi A5', 'Audi A5', 'Mercedez Benz C class', 'Mercedez Benz C class', 'Mercedez Benz C class', 'Mercedez Benz C class'],\n",
    "    'Mileage': [69000, 35000, 57000, 22500, 46000, 59000, 52000, 72000, 91000, 67000, 83000, 79000, 59000],\n",
    "    'Sell Price($)': [18000, 34000, 26100, 40000, 31500, 29400, 32000, 19300, 12000, 22000, 20000, 21000, 33000],\n",
    "    'Age(yrs)': [6, 3, 5, 2, 4, 5, 5, 6, 8, 6, 7, 7, 5]\n",
    "}\n",
    "\n",
    "# Create a list of unique car models\n",
    "unique_car_models = sorted(df[\"Car_Model\"].unique())\n",
    "\n",
    "# Create a one hot encoded DataFrame for Car Model\n",
    "one_hot_encoded_df = pd.DataFrame(columns=unique_car_models)\n",
    "for i in range(len(df)):\n",
    "    car_model = df.loc[i, \"Car_Model\"]\n",
    "    one_hot_encoded_df.loc[i, car_model] = 1\n",
    "# Print the one hot encoded DataFrame\n",
    "print(one_hot_encoded_df)\n"
   ]
  },
  {
   "cell_type": "code",
   "execution_count": 19,
   "id": "8a7c5d72",
   "metadata": {},
   "outputs": [
    {
     "name": "stdout",
     "output_type": "stream",
     "text": [
      "    Mileage  Sell Price($)  Age(yrs)  Car_Audi A5  Car_BMW X5  \\\n",
      "0     69000          18000         6            0           1   \n",
      "1     35000          34000         3            0           1   \n",
      "2     57000          26100         5            0           1   \n",
      "3     22500          40000         2            0           1   \n",
      "4     46000          31500         4            0           1   \n",
      "5     59000          29400         5            1           0   \n",
      "6     52000          32000         5            1           0   \n",
      "7     72000          19300         6            1           0   \n",
      "8     91000          12000         8            1           0   \n",
      "9     67000          22000         6            0           0   \n",
      "10    83000          20000         7            0           0   \n",
      "11    79000          21000         7            0           0   \n",
      "12    59000          33000         5            0           0   \n",
      "\n",
      "    Car_Mercedez Benz C class  \n",
      "0                           0  \n",
      "1                           0  \n",
      "2                           0  \n",
      "3                           0  \n",
      "4                           0  \n",
      "5                           0  \n",
      "6                           0  \n",
      "7                           0  \n",
      "8                           0  \n",
      "9                           1  \n",
      "10                          1  \n",
      "11                          1  \n",
      "12                          1  \n"
     ]
    }
   ],
   "source": [
    "import pandas as pd\n",
    "\n",
    "# Create the DataFrame\n",
    "data = {\n",
    "    'Car Model': ['BMW X5', 'BMW X5', 'BMW X5', 'BMW X5', 'BMW X5', 'Audi A5', 'Audi A5', 'Audi A5', 'Audi A5', 'Mercedez Benz C class', 'Mercedez Benz C class', 'Mercedez Benz C class', 'Mercedez Benz C class'],\n",
    "    'Mileage': [69000, 35000, 57000, 22500, 46000, 59000, 52000, 72000, 91000, 67000, 83000, 79000, 59000],\n",
    "    'Sell Price($)': [18000, 34000, 26100, 40000, 31500, 29400, 32000, 19300, 12000, 22000, 20000, 21000, 33000],\n",
    "    'Age(yrs)': [6, 3, 5, 2, 4, 5, 5, 6, 8, 6, 7, 7, 5]\n",
    "}\n",
    "\n",
    "df = pd.DataFrame(data)\n",
    "\n",
    "# Perform one-hot encoding\n",
    "encoded = pd.get_dummies(df, columns=['Car Model'], prefix=['Car'])\n",
    "\n",
    "print(encoded)"
   ]
  },
  {
   "cell_type": "code",
   "execution_count": 17,
   "id": "055ee2fe",
   "metadata": {},
   "outputs": [
    {
     "name": "stdout",
     "output_type": "stream",
     "text": [
      "    Mileage  Sell_Price($)  Age(yrs)  Car_Model_Audi A5  Car_Model_BMW X5  \\\n",
      "0     69000          18000         6                  0                 1   \n",
      "1     35000          34000         3                  0                 1   \n",
      "2     57000          26100         5                  0                 1   \n",
      "3     22500          40000         2                  0                 1   \n",
      "4     46000          31500         4                  0                 1   \n",
      "5     59000          29400         5                  1                 0   \n",
      "6     52000          32000         5                  1                 0   \n",
      "7     72000          19300         6                  1                 0   \n",
      "8     91000          12000         8                  1                 0   \n",
      "9     67000          22000         6                  0                 0   \n",
      "10    83000          20000         7                  0                 0   \n",
      "11    79000          21000         7                  0                 0   \n",
      "12    59000          33000         5                  0                 0   \n",
      "\n",
      "    Car_Model_Mercedez Benz C class  \n",
      "0                                 0  \n",
      "1                                 0  \n",
      "2                                 0  \n",
      "3                                 0  \n",
      "4                                 0  \n",
      "5                                 0  \n",
      "6                                 0  \n",
      "7                                 0  \n",
      "8                                 0  \n",
      "9                                 1  \n",
      "10                                1  \n",
      "11                                1  \n",
      "12                                1  \n"
     ]
    }
   ],
   "source": [
    "import pandas as pd\n",
    "\n",
    "# Create the DataFrame\n",
    "df = pd.DataFrame({\n",
    "    'Car_Model': ['BMW X5', 'BMW X5', 'BMW X5', 'BMW X5', 'BMW X5', 'Audi A5', 'Audi A5', 'Audi A5', 'Audi A5', 'Mercedez Benz C class', 'Mercedez Benz C class', 'Mercedez Benz C class', 'Mercedez Benz C class'],\n",
    "    'Mileage': [69000, 35000, 57000, 22500, 46000, 59000, 52000, 72000, 91000, 67000, 83000, 79000, 59000],\n",
    "    'Sell_Price($)': [18000, 34000, 26100, 40000, 31500, 29400, 32000, 19300, 12000, 22000, 20000, 21000, 33000],\n",
    "    'Age(yrs)': [6, 3, 5, 2, 4, 5, 5, 6, 8, 6, 7, 7, 5]\n",
    "})\n",
    "\n",
    "# Create a one hot encoded DataFrame for Car Model\n",
    "df_onehot = pd.get_dummies(df, columns=['Car_Model'])\n",
    "print(df_onehot)\n"
   ]
  },
  {
   "cell_type": "code",
   "execution_count": 13,
   "id": "799c1d36",
   "metadata": {},
   "outputs": [
    {
     "name": "stdout",
     "output_type": "stream",
     "text": [
      "   BMW X5 Audi A5 Mercedez Benz C class\n",
      "0       1     NaN                   NaN\n",
      "1       1     NaN                   NaN\n",
      "2       1     NaN                   NaN\n",
      "3       1     NaN                   NaN\n",
      "4       1     NaN                   NaN\n",
      "5     NaN       1                   NaN\n",
      "6     NaN       1                   NaN\n",
      "7     NaN       1                   NaN\n",
      "8     NaN       1                   NaN\n",
      "9     NaN     NaN                     1\n",
      "10    NaN     NaN                     1\n",
      "11    NaN     NaN                     1\n",
      "12    NaN     NaN                     1\n"
     ]
    }
   ],
   "source": [
    "import numpy as np\n",
    "import pandas as pd\n",
    "\n",
    "# Create the DataFrame\n",
    "df = pd.DataFrame({\n",
    "    'Car Model': ['BMW X5', 'BMW X5', 'BMW X5', 'BMW X5', 'BMW X5', 'Audi A5', 'Audi A5', 'Audi A5', 'Audi A5', 'Mercedez Benz C class', 'Mercedez Benz C class', 'Mercedez Benz C class', 'Mercedez Benz C class'],\n",
    "    'Mileage': [69000, 35000, 57000, 22500, 46000, 59000, 52000, 72000, 91000, 67000, 83000, 79000, 59000],\n",
    "    'Sell Price($)': [18000, 34000, 26100, 40000, 31500, 29400, 32000, 19300, 12000, 22000, 20000, 21000, 33000],\n",
    "    'Age(yrs)': [6, 3, 5, 2, 4, 5, 5, 6, 8, 6, 7, 7, 5]\n",
    "})\n",
    "\n",
    "# Create a list of unique values for the Car Model column\n",
    "unique_car_models = list(df['Car Model'].unique())\n",
    "\n",
    "# Create a one hot encoded DataFrame for Car Model\n",
    "df_onehot = pd.DataFrame(columns=unique_car_models)\n",
    "for i in range(len(df)):\n",
    "    current_car_model = df.loc[i, 'Car Model']\n",
    "    df_onehot.loc[i, current_car_model] = 1\n",
    "\n",
    "# Print the one hot encoded DataFrame\n",
    "print(df_onehot)\n"
   ]
  },
  {
   "cell_type": "code",
   "execution_count": 15,
   "id": "882f276b",
   "metadata": {},
   "outputs": [
    {
     "name": "stdout",
     "output_type": "stream",
     "text": [
      "   BMW X5 Audi A5 Mercedez Benz C class\n",
      "0       1     NaN                   NaN\n",
      "1       1     NaN                   NaN\n",
      "2       1     NaN                   NaN\n",
      "3       1     NaN                   NaN\n",
      "4       1     NaN                   NaN\n",
      "5     NaN       1                   NaN\n",
      "6     NaN       1                   NaN\n",
      "7     NaN       1                   NaN\n",
      "8     NaN       1                   NaN\n",
      "9     NaN     NaN                     1\n",
      "10    NaN     NaN                     1\n",
      "11    NaN     NaN                     1\n",
      "12    NaN     NaN                     1\n"
     ]
    }
   ],
   "source": [
    "import numpy as np\n",
    "import pandas as pd\n",
    "\n",
    "# Create the DataFrame\n",
    "df = df.dropna(subset=['Car Model'])\n",
    "\n",
    "# Create a list of unique values for the Car Model column\n",
    "unique_car_models = list(df['Car Model'].unique())\n",
    "\n",
    "# Create a one hot encoded DataFrame for Car Model\n",
    "df_onehot = pd.DataFrame(columns=unique_car_models)\n",
    "for i in range(len(df)):\n",
    "    current_car_model = df.loc[i, 'Car Model']\n",
    "    df_onehot.loc[i, current_car_model] = 1\n",
    "\n",
    "# Print the one hot encoded DataFrame\n",
    "print(df_onehot)\n"
   ]
  },
  {
   "cell_type": "code",
   "execution_count": null,
   "id": "64bd2c23",
   "metadata": {},
   "outputs": [],
   "source": []
  }
 ],
 "metadata": {
  "kernelspec": {
   "display_name": "Python 3 (ipykernel)",
   "language": "python",
   "name": "python3"
  },
  "language_info": {
   "codemirror_mode": {
    "name": "ipython",
    "version": 3
   },
   "file_extension": ".py",
   "mimetype": "text/x-python",
   "name": "python",
   "nbconvert_exporter": "python",
   "pygments_lexer": "ipython3",
   "version": "3.11.3"
  }
 },
 "nbformat": 4,
 "nbformat_minor": 5
}
